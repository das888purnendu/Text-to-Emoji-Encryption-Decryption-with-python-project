{
 "cells": [
  {
   "cell_type": "markdown",
   "metadata": {},
   "source": [
    "## Text to Emoji Encryption Project By- Purnendu Das | das888purnendu@gmail.com "
   ]
  },
  {
   "cell_type": "code",
   "execution_count": 1,
   "metadata": {},
   "outputs": [],
   "source": [
    "import pandas as pd\n",
    "import random\n",
    "emoji = pd.read_excel(\"emoji.xlsx\")\n",
    "my_list=['a','b','c','d','e','f','g','h','i','j','k','l','m','n','o','p','q','r','s','t','u','v','w','x','y','z','A','B','C','D','E','F','G','H','I','J','K','L','M','N','O','P','Q','R','S','T','U','V','W','X','Y','Z',' ',',','.','<','>','/','?',\"'\",'\"',';',':','1','2','3','4','5','6','7','8','9','0','\\\\','|','[',']','{','}','+','=','-','_',')','(','*','&','^','%','$','#','@','!','~','`']"
   ]
  },
  {
   "cell_type": "code",
   "execution_count": 2,
   "metadata": {},
   "outputs": [],
   "source": [
    "def encod(sen):\n",
    "    ln = len(sen)\n",
    "    b = sen[::-1]\n",
    "    if(ln%2==0):\n",
    "        ln_h = int(ln/2)\n",
    "        a_a = b[:ln_h]\n",
    "        a_b = b[ln_h:]\n",
    "    else:\n",
    "        ln_h = int(ln/2)\n",
    "        a_a = b[:ln_h]\n",
    "        a_b = b[ln_h:]\n",
    "    a_a = a_a[::-1]\n",
    "    res = a_a + a_b\n",
    "    return(res)"
   ]
  },
  {
   "cell_type": "code",
   "execution_count": 3,
   "metadata": {},
   "outputs": [],
   "source": [
    "def sentence_input(inp):\n",
    "    if(len(inp) !=0):\n",
    "        li = list(inp) \n",
    "        an_list=[]\n",
    "        st = random.randint(0,444)\n",
    "        an_list.append(emoji.iloc[st,0])\n",
    "        s = pd.Series(li)\n",
    "        r = s.isin(emoji['emj'])\n",
    "        if(r.any(axis = 0)==True):\n",
    "            \n",
    "            inn = False\n",
    "            for i in range(len(li)):\n",
    "                \n",
    "                s_in = pd.Series(list(li[i]))\n",
    "                r_in = s_in.isin(emoji['emj'])\n",
    "                \n",
    "                if(r_in.values==True):\n",
    "                    if(inn!= True):\n",
    "                        inn = True\n",
    "                        an_list.append('♪')\n",
    "                    an_list.append(li[i])\n",
    "                else:\n",
    "                    if(inn== True):\n",
    "                        inn = False\n",
    "                        an_list.append('♫')\n",
    "                    pos = my_list.index(li[i])\n",
    "                    pos = pos + st\n",
    "                    an_list.append(emoji.iloc[pos,0])               \n",
    "        else:\n",
    "            for i in range(len(li)):\n",
    "                pos = my_list.index(li[i])\n",
    "                pos = pos + st\n",
    "                an_list.append(emoji.iloc[pos,0])\n",
    "        output='' \n",
    "        for x in an_list: \n",
    "                output += x\n",
    "        output = encod(output)\n",
    "        return(output)\n",
    "    else:\n",
    "        return(\"Wrong input !\")"
   ]
  },
  {
   "cell_type": "code",
   "execution_count": 4,
   "metadata": {},
   "outputs": [],
   "source": [
    "def decod(sen):\n",
    "    ln = len(sen)\n",
    "    if(ln%2==0):\n",
    "        ln_h = int(ln/2)\n",
    "        a_a = sen[ln_h:]\n",
    "        a_b = sen[:ln_h]\n",
    "    else:\n",
    "        ln_h = int(ln/2)\n",
    "        a_a = sen[ln_h:]\n",
    "        a_b = sen[:ln_h]\n",
    "    a_a = a_a[::-1]\n",
    "    final = a_a + a_b\n",
    "    return(final)"
   ]
  },
  {
   "cell_type": "code",
   "execution_count": 5,
   "metadata": {},
   "outputs": [],
   "source": [
    "def emoji_input(einp):\n",
    "    einp = decod(einp)\n",
    "    if(len(einp)>=2):\n",
    "        sent=''\n",
    "        val = emoji.loc[emoji['emj']==einp[0]].index[0]\n",
    "        i=1\n",
    "        while(True):\n",
    "            if(einp[i]=='♪'):\n",
    "                for j in range(i+1,len(einp)):\n",
    "                    if(einp[j]=='♫'):\n",
    "                        break\n",
    "                    else:\n",
    "                        sent += einp[j]\n",
    "                i=j\n",
    "            else:\n",
    "                d = emoji.loc[emoji['emj']==einp[i]].index[0]\n",
    "                sent+= my_list[d-val]\n",
    "            if((i+1)>=len(einp)):\n",
    "                break\n",
    "            else:\n",
    "                i+=1\n",
    "        return(sent)\n",
    "    else:\n",
    "        return('Wrong input !')"
   ]
  },
  {
   "cell_type": "markdown",
   "metadata": {},
   "source": [
    "## Sentence Encryption"
   ]
  },
  {
   "cell_type": "code",
   "execution_count": 6,
   "metadata": {},
   "outputs": [
    {
     "name": "stdout",
     "output_type": "stream",
     "text": [
      "Enter a sentence : Hi i am Purnendu\n",
      "OUTPUT Emoji : 🥗🏍💺🙃🚊🙃🏀🏍🤭🥞🍄🤭🚑🤭🚑⛅🍄\n"
     ]
    }
   ],
   "source": [
    "inp = input('Enter a sentence : ')\n",
    "print('OUTPUT Emoji :',sentence_input(inp))"
   ]
  },
  {
   "cell_type": "markdown",
   "metadata": {},
   "source": [
    "## Emoji Decryption"
   ]
  },
  {
   "cell_type": "code",
   "execution_count": 7,
   "metadata": {},
   "outputs": [
    {
     "name": "stdout",
     "output_type": "stream",
     "text": [
      "Enter a Emoji sentence : 🥗🏍💺🙃🚊🙃🏀🏍🤭🥞🍄🤭🚑🤭🚑⛅🍄\n",
      "OUTPUT SENTENCE :  Hi i am Purnendu\n"
     ]
    }
   ],
   "source": [
    "inp = input('Enter a Emoji sentence : ')\n",
    "print('OUTPUT SENTENCE : ',emoji_input(inp))"
   ]
  },
  {
   "cell_type": "markdown",
   "metadata": {},
   "source": [
    "## Sentence Encryption"
   ]
  },
  {
   "cell_type": "code",
   "execution_count": 8,
   "metadata": {
    "scrolled": true
   },
   "outputs": [
    {
     "name": "stdout",
     "output_type": "stream",
     "text": [
      "Enter a Sentence :Have A Nice Day 😇👍 & Thank You.\n",
      "OUTPUT Emoji : ♪😇👍♫⛳👱⛳🥩🚁💨🏜🧐⛳😡🤬💝🌓⛳🦆💨💘⛳✌🥊💛👿⛳💋⛳✌🌒💨🛣💨\n"
     ]
    }
   ],
   "source": [
    "inp = input('Enter a Sentence :' )\n",
    "print('OUTPUT Emoji :',sentence_input(inp))"
   ]
  },
  {
   "cell_type": "markdown",
   "metadata": {},
   "source": [
    "## Emoji Decryption"
   ]
  },
  {
   "cell_type": "code",
   "execution_count": 9,
   "metadata": {},
   "outputs": [
    {
     "name": "stdout",
     "output_type": "stream",
     "text": [
      "Enter a Emoji sentence : ♪😇👍♫⛳👱⛳🥩🚁💨🏜🧐⛳😡🤬💝🌓⛳🦆💨💘⛳✌🥊💛👿⛳💋⛳✌🌒💨🛣💨\n",
      "OUTPUT SENTENCE :  Have A Nice Day 😇👍 & Thank You.\n"
     ]
    }
   ],
   "source": [
    "inp = input('Enter a Emoji sentence : ')\n",
    "print('OUTPUT SENTENCE : ',emoji_input(inp))"
   ]
  },
  {
   "cell_type": "markdown",
   "metadata": {},
   "source": [
    "# Thank You For Watching This 😊🙏 "
   ]
  },
  {
   "cell_type": "code",
   "execution_count": null,
   "metadata": {},
   "outputs": [],
   "source": []
  }
 ],
 "metadata": {
  "kernelspec": {
   "display_name": "Python 3",
   "language": "python",
   "name": "python3"
  },
  "language_info": {
   "codemirror_mode": {
    "name": "ipython",
    "version": 3
   },
   "file_extension": ".py",
   "mimetype": "text/x-python",
   "name": "python",
   "nbconvert_exporter": "python",
   "pygments_lexer": "ipython3",
   "version": "3.6.8"
  }
 },
 "nbformat": 4,
 "nbformat_minor": 2
}
